{
 "cells": [
  {
   "cell_type": "code",
   "execution_count": 1,
   "id": "84e23939",
   "metadata": {},
   "outputs": [],
   "source": [
    "import socket\n",
    "from IPython.display import clear_output, display"
   ]
  },
  {
   "cell_type": "code",
   "execution_count": 2,
   "id": "240ed5f1",
   "metadata": {},
   "outputs": [],
   "source": [
    "def find_free_port(s):\n",
    "    s.bind(('localhost', 0))        # Bind to a free port provided by the host.\n",
    "    return (s, s.getsockname()[1])  # Return the port number assigned."
   ]
  },
  {
   "cell_type": "code",
   "execution_count": null,
   "id": "026bc8e8",
   "metadata": {},
   "outputs": [
    {
     "name": "stdout",
     "output_type": "stream",
     "text": [
      "<xml version=\"1.0\" encoding=\"UTF-8\">\n",
      "<header/>\n",
      "<body>\n",
      "<code>\n",
      "<body/>\n",
      "\n"
     ]
    }
   ],
   "source": [
    "s = socket.socket(socket.AF_INET, socket.SOCK_DGRAM)\n",
    "#s, port = find_free_port(s_)\n",
    "#print(\"Port: \" + str(port))\n",
    "\n",
    "HOST = \"127.0.0.1\"#\"192.168.1.100\"\n",
    "PORT = 4434 #49152\n",
    "UDP_INFO = (HOST, PORT)\n",
    "s.bind(UDP_INFO)\n",
    "#print(s.getsockname()[1])\n",
    "\n",
    "while True:\n",
    "    xml_encoded, addr = s.recvfrom(1024)\n",
    "    xml_decoded = xml_encoded.decode('utf-8')\n",
    "    clear_output(wait=True)\n",
    "    print(xml_decoded)\n",
    "s.shutdown\n",
    "   "
   ]
  },
  {
   "cell_type": "markdown",
   "id": "3cdd8ace",
   "metadata": {},
   "source": [
    "https://stackoverflow.com/questions/2838244/get-open-tcp-port-in-python\n",
    "https://wiki.python.org/moin/UdpCommunication\n",
    "https://stackoverflow.com/questions/2623054/how-to-send-raw-xml-in-python\n",
    "https://stackoverflow.com/questions/51497714/xml-through-socket-in-python\n",
    "https://blog.stephencleary.com/2009/07/xml-over-tcpip.html\n",
    "https://stackoverflow.com/questions/42855972/printing-on-the-same-line-on-a-jupyter-notebook"
   ]
  },
  {
   "cell_type": "markdown",
   "id": "53927c73",
   "metadata": {},
   "source": [
    "https://stackoverflow.com/questions/7585435/best-way-to-convert-string-to-bytes-in-python-3"
   ]
  }
 ],
 "metadata": {
  "kernelspec": {
   "display_name": "Python 3 (ipykernel)",
   "language": "python",
   "name": "python3"
  },
  "language_info": {
   "codemirror_mode": {
    "name": "ipython",
    "version": 3
   },
   "file_extension": ".py",
   "mimetype": "text/x-python",
   "name": "python",
   "nbconvert_exporter": "python",
   "pygments_lexer": "ipython3",
   "version": "3.9.7"
  }
 },
 "nbformat": 4,
 "nbformat_minor": 5
}
